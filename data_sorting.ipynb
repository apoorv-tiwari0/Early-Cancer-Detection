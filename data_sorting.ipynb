{
 "cells": [
  {
   "cell_type": "code",
   "execution_count": 2,
   "id": "34b513c5",
   "metadata": {},
   "outputs": [
    {
     "name": "stderr",
     "output_type": "stream",
     "text": [
      "<>:8: SyntaxWarning: invalid escape sequence '\\C'\n",
      "<>:9: SyntaxWarning: invalid escape sequence '\\C'\n",
      "<>:8: SyntaxWarning: invalid escape sequence '\\C'\n",
      "<>:9: SyntaxWarning: invalid escape sequence '\\C'\n",
      "C:\\Users\\apoor\\AppData\\Local\\Temp\\ipykernel_15792\\3234863618.py:8: SyntaxWarning: invalid escape sequence '\\C'\n",
      "  SOURCE_DIR = \"C:\\Cancer_dataset\\Multi Cancer\\Multi Cancer\"  # contains folders like 'ALL', 'Breast Cancer', etc.\n",
      "C:\\Users\\apoor\\AppData\\Local\\Temp\\ipykernel_15792\\3234863618.py:9: SyntaxWarning: invalid escape sequence '\\C'\n",
      "  DEST_DIR = \"C:\\Cancer_8_Types_Balanced\"  # final destination directory\n"
     ]
    },
    {
     "name": "stdout",
     "output_type": "stream",
     "text": [
      "Found 95001 cancerous and 35001 non-cancerous images.\n"
     ]
    },
    {
     "name": "stderr",
     "output_type": "stream",
     "text": [
      "Copying cancerous: 100%|██████████| 35000/35000 [00:35<00:00, 984.78it/s] \n",
      "Copying non_cancerous: 100%|██████████| 35000/35000 [00:36<00:00, 966.74it/s] "
     ]
    },
    {
     "name": "stdout",
     "output_type": "stream",
     "text": [
      "✅ Sorting and balancing complete. Final dataset is in: C:\\Cancer_8_Types_Balanced\n"
     ]
    },
    {
     "name": "stderr",
     "output_type": "stream",
     "text": [
      "\n"
     ]
    }
   ],
   "source": [
    "import os\n",
    "import shutil\n",
    "import random\n",
    "from pathlib import Path\n",
    "from tqdm import tqdm\n",
    "\n",
    "# Path to your original dataset\n",
    "SOURCE_DIR = \"C:\\Cancer_dataset\\Multi Cancer\\Multi Cancer\"  # contains folders like 'ALL', 'Breast Cancer', etc.\n",
    "DEST_DIR = \"C:\\Cancer_8_Types_Balanced\"  # final destination directory\n",
    "\n",
    "# Define folder mapping (subclass name → main type, and whether it's cancerous or not)\n",
    "LABEL_MAP = {\n",
    "    \"all_benign\": (\"ALL\", \"non-cancerous\"),\n",
    "    \"all_early\": (\"ALL\", \"cancerous\"),\n",
    "    \"all_pre\": (\"ALL\", \"cancerous\"),\n",
    "    \"all_pro\": (\"ALL\", \"cancerous\"),\n",
    "\n",
    "    \"brain_glioma\": (\"Brain\", \"cancerous\"),\n",
    "    \"brain_menin\": (\"Brain\", \"cancerous\"),\n",
    "    \"brain_tumor\": (\"Brain\", \"cancerous\"),\n",
    "\n",
    "    \"breast_benign\": (\"Breast\", \"non-cancerous\"),\n",
    "    \"breast_malignant\": (\"Breast\", \"cancerous\"),\n",
    "\n",
    "    \"cervix_dyk\": (\"Cervical\", \"cancerous\"),\n",
    "    \"cervix_koc\": (\"Cervical\", \"cancerous\"),\n",
    "    \"cervix_mep\": (\"Cervical\", \"cancerous\"),\n",
    "    \"cervix_pab\": (\"Cervical\", \"cancerous\"),\n",
    "    \"cervix_sfi\": (\"Cervical\", \"non-cancerous\"),\n",
    "\n",
    "    \"kidney_normal\": (\"Kidney\", \"non-cancerous\"),\n",
    "    \"kidney_tumor\": (\"Kidney\", \"cancerous\"),\n",
    "\n",
    "    \"colon_aca\": (\"Lung_Colon\", \"cancerous\"),\n",
    "    \"colon_bnt\": (\"Lung_Colon\", \"non-cancerous\"),\n",
    "    \"lung_aca\": (\"Lung_Colon\", \"cancerous\"),\n",
    "    \"lung_bnt\": (\"Lung_Colon\", \"non-cancerous\"),\n",
    "    \"lung_scc\": (\"Lung_Colon\", \"cancerous\"),\n",
    "\n",
    "    \"lymph_cll\": (\"Lymphoma\", \"cancerous\"),\n",
    "    \"lymph_fl\": (\"Lymphoma\", \"cancerous\"),\n",
    "    \"lymph_mcl\": (\"Lymphoma\", \"cancerous\"),\n",
    "\n",
    "    \"oral_normal\": (\"Oral\", \"non-cancerous\"),\n",
    "    \"oral_scc\": (\"Oral\", \"cancerous\"),\n",
    "}\n",
    "\n",
    "# Step 1: Collect all files and categorize them\n",
    "all_images = {\"cancerous\": [], \"non-cancerous\": []}\n",
    "\n",
    "for root, dirs, files in os.walk(SOURCE_DIR):\n",
    "    subclass = os.path.basename(root).lower()\n",
    "    if subclass in LABEL_MAP:\n",
    "        cancer_type, label = LABEL_MAP[subclass]\n",
    "        for f in files:\n",
    "            if f.lower().endswith(('.jpg', '.jpeg', '.png')):\n",
    "                src_path = os.path.join(root, f)\n",
    "                all_images[label].append((src_path, cancer_type))\n",
    "\n",
    "print(f\"Found {len(all_images['cancerous'])} cancerous and {len(all_images['non-cancerous'])} non-cancerous images.\")\n",
    "\n",
    "# Step 2: Shuffle and limit cancerous data\n",
    "random.seed(42)\n",
    "random.shuffle(all_images[\"cancerous\"])\n",
    "balanced_cancerous = all_images[\"cancerous\"][:35000]\n",
    "balanced_non_cancerous = all_images[\"non-cancerous\"][:35000]\n",
    "\n",
    "# Step 3: Copy files into folders by main cancer type\n",
    "def copy_images(image_list, label_type):\n",
    "    for src, cancer_type in tqdm(image_list, desc=f\"Copying {label_type}\"):\n",
    "        dest_folder = Path(DEST_DIR) / cancer_type\n",
    "        dest_folder.mkdir(parents=True, exist_ok=True)\n",
    "        fname = f\"{label_type}_{Path(src).name}\"\n",
    "        shutil.copy2(src, dest_folder / fname)\n",
    "\n",
    "copy_images(balanced_cancerous, \"cancerous\")\n",
    "copy_images(balanced_non_cancerous, \"non_cancerous\")\n",
    "\n",
    "print(\"✅ Sorting and balancing complete. Final dataset is in:\", DEST_DIR)\n"
   ]
  },
  {
   "cell_type": "code",
   "execution_count": null,
   "id": "aac491da",
   "metadata": {},
   "outputs": [],
   "source": []
  }
 ],
 "metadata": {
  "kernelspec": {
   "display_name": "Python 3",
   "language": "python",
   "name": "python3"
  },
  "language_info": {
   "codemirror_mode": {
    "name": "ipython",
    "version": 3
   },
   "file_extension": ".py",
   "mimetype": "text/x-python",
   "name": "python",
   "nbconvert_exporter": "python",
   "pygments_lexer": "ipython3",
   "version": "3.12.4"
  }
 },
 "nbformat": 4,
 "nbformat_minor": 5
}
